{
 "cells": [
  {
   "cell_type": "markdown",
   "metadata": {},
   "source": [
    "## 학습목표\n",
    " 1. numpy에서 자주 사용되는 함수들을 사용해보기"
   ]
  },
  {
   "cell_type": "code",
   "execution_count": 1,
   "metadata": {},
   "outputs": [],
   "source": [
    "import numpy as np"
   ]
  },
  {
   "cell_type": "markdown",
   "metadata": {},
   "source": [
    "#### numpy documentation\n",
    " - [numpy 공식 문서 링크](https://www.numpy.org/devdocs/reference/)\n",
    " - numpy에서 제공되는 함수등에 대한 문서"
   ]
  },
  {
   "cell_type": "code",
   "execution_count": 2,
   "metadata": {},
   "outputs": [
    {
     "name": "stdout",
     "output_type": "stream",
     "text": [
      "[[ 0  1  2  3  4]\n",
      " [ 5  6  7  8  9]\n",
      " [10 11 12 13 14]]\n",
      "[[0.83391347 0.9844442  0.49834003 0.10412064 0.57338835]\n",
      " [0.61441517 0.85164211 0.6952315  0.14813488 0.31690488]\n",
      " [0.58923221 0.81204415 0.97352614 0.26335863 0.38081692]]\n"
     ]
    }
   ],
   "source": [
    "x=np.arange(15).reshape(3,5)\n",
    "y=np.random.rand(15).reshape(3, 5)\n",
    "print(x)\n",
    "print(y)"
   ]
  },
  {
   "cell_type": "markdown",
   "metadata": {},
   "source": [
    "#### 연산 함수\n",
    " - add, substract, multiply, divide"
   ]
  },
  {
   "cell_type": "code",
   "execution_count": 8,
   "metadata": {},
   "outputs": [
    {
     "name": "stdout",
     "output_type": "stream",
     "text": [
      "[[ 0.83391347  1.9844442   2.49834003  3.10412064  4.57338835]\n",
      " [ 5.61441517  6.85164211  7.6952315   8.14813488  9.31690488]\n",
      " [10.58923221 11.81204415 12.97352614 13.26335863 14.38081692]] \n",
      "\n",
      "[[-0.83391347  0.0155558   1.50165997  2.89587936  3.42661165]\n",
      " [ 4.38558483  5.14835789  6.3047685   7.85186512  8.68309512]\n",
      " [ 9.41076779 10.18795585 11.02647386 12.73664137 13.61918308]] \n",
      "\n",
      "[[ 0.          0.9844442   0.99668006  0.31236193  2.29355339]\n",
      " [ 3.07207587  5.10985267  4.86662053  1.18507901  2.85214389]\n",
      " [ 5.89232211  8.93248565 11.68231372  3.42366218  5.3314369 ]] \n",
      "\n",
      "[[ 0.          1.0158016   4.01332401 28.81273022  6.9760748 ]\n",
      " [ 8.13781986  7.04521291 10.06858859 54.00483794 28.39968917]\n",
      " [16.97123783 13.54606151 12.32632537 49.3623469  36.76307228]] \n",
      "\n",
      "----------------------------------------------\n",
      "\n",
      "[[ 0.83391347  1.9844442   2.49834003  3.10412064  4.57338835]\n",
      " [ 5.61441517  6.85164211  7.6952315   8.14813488  9.31690488]\n",
      " [10.58923221 11.81204415 12.97352614 13.26335863 14.38081692]] \n",
      "\n",
      "[[-0.83391347  0.0155558   1.50165997  2.89587936  3.42661165]\n",
      " [ 4.38558483  5.14835789  6.3047685   7.85186512  8.68309512]\n",
      " [ 9.41076779 10.18795585 11.02647386 12.73664137 13.61918308]] \n",
      "\n",
      "[[ 0.          0.9844442   0.99668006  0.31236193  2.29355339]\n",
      " [ 3.07207587  5.10985267  4.86662053  1.18507901  2.85214389]\n",
      " [ 5.89232211  8.93248565 11.68231372  3.42366218  5.3314369 ]] \n",
      "\n",
      "[[ 0.          1.0158016   4.01332401 28.81273022  6.9760748 ]\n",
      " [ 8.13781986  7.04521291 10.06858859 54.00483794 28.39968917]\n",
      " [16.97123783 13.54606151 12.32632537 49.3623469  36.76307228]] \n",
      "\n"
     ]
    }
   ],
   "source": [
    "# 같은 크기여야 함\n",
    "print(np.add(x, y), \"\\n\")\n",
    "print(np.subtract(x, y), \"\\n\")\n",
    "print(np.multiply(x,y), \"\\n\")\n",
    "print(np.divide(x,y), \"\\n\")\n",
    "\n",
    "print(\"----------------------------------------------\")\n",
    "print()\n",
    "\n",
    "print(x+y, \"\\n\")\n",
    "print(x-y, \"\\n\")\n",
    "print(x*y, \"\\n\")\n",
    "print(x/y, \"\\n\")"
   ]
  },
  {
   "cell_type": "markdown",
   "metadata": {},
   "source": [
    "#### 통계 함수\n",
    " - 평균, 분산, 중앙, 최대, 최소값 등등 통계 관련된 함수가 내장"
   ]
  },
  {
   "cell_type": "code",
   "execution_count": 9,
   "metadata": {},
   "outputs": [
    {
     "name": "stdout",
     "output_type": "stream",
     "text": [
      "[[0.83391347 0.9844442  0.49834003 0.10412064 0.57338835]\n",
      " [0.61441517 0.85164211 0.6952315  0.14813488 0.31690488]\n",
      " [0.58923221 0.81204415 0.97352614 0.26335863 0.38081692]]\n"
     ]
    }
   ],
   "source": [
    "print(y)"
   ]
  },
  {
   "cell_type": "code",
   "execution_count": 13,
   "metadata": {},
   "outputs": [
    {
     "name": "stdout",
     "output_type": "stream",
     "text": [
      "0.5759675523339\n",
      "0.9844442036651245\n",
      "1\n",
      "0.07691222349524159\n",
      "0.5892322114620501\n",
      "0.277330531127104\n"
     ]
    }
   ],
   "source": [
    "print(np.mean(y)) #y.mean()\n",
    "print(np.max(y))\n",
    "print(np.argmax(y))\n",
    "print(np.var(y))\n",
    "print(np.median(y))\n",
    "print(np.std(y))"
   ]
  },
  {
   "cell_type": "markdown",
   "metadata": {},
   "source": [
    "#### 집계함수\n",
    " - 합계(sum), 누적합계(cumsum) 등등 계산 가능"
   ]
  },
  {
   "cell_type": "code",
   "execution_count": 14,
   "metadata": {},
   "outputs": [
    {
     "data": {
      "text/plain": [
       "array([[0.83391347, 0.9844442 , 0.49834003, 0.10412064, 0.57338835],\n",
       "       [0.61441517, 0.85164211, 0.6952315 , 0.14813488, 0.31690488],\n",
       "       [0.58923221, 0.81204415, 0.97352614, 0.26335863, 0.38081692]])"
      ]
     },
     "execution_count": 14,
     "metadata": {},
     "output_type": "execute_result"
    }
   ],
   "source": [
    "y"
   ]
  },
  {
   "cell_type": "code",
   "execution_count": 16,
   "metadata": {},
   "outputs": [
    {
     "name": "stdout",
     "output_type": "stream",
     "text": [
      "8.6395132850085\n",
      "[0.83391347 1.81835767 2.3166977  2.42081834 2.99420669 3.60862186\n",
      " 4.46026397 5.15549548 5.30363035 5.62053523 6.20976744 7.02181159\n",
      " 7.99533773 8.25869636 8.63951329]\n"
     ]
    }
   ],
   "source": [
    "print(np.sum(y))\n",
    "print(np.cumsum(y))"
   ]
  },
  {
   "cell_type": "code",
   "execution_count": 24,
   "metadata": {},
   "outputs": [
    {
     "name": "stdout",
     "output_type": "stream",
     "text": [
      "[2.03756085 2.64813046 2.16709768 0.51561415 1.27111015]\n",
      "[2.03756085 2.64813046 2.16709768 0.51561415 1.27111015]\n",
      "[2.99420669 2.62632854 3.01897805]\n"
     ]
    }
   ],
   "source": [
    "print(sum(y))\n",
    "print(np.sum(y, axis=0))\n",
    "print(np.sum(y, axis=1))"
   ]
  },
  {
   "cell_type": "markdown",
   "metadata": {},
   "source": [
    "#### any, all 함수\n",
    " - any: 특정 조건을 만족하는 것이 하나라도 있으면 True, 아니면 False\n",
    " - all: 모든 원소가 특정 조건을 만족한다면 True, 아니면 False"
   ]
  },
  {
   "cell_type": "code",
   "execution_count": 25,
   "metadata": {},
   "outputs": [
    {
     "name": "stdout",
     "output_type": "stream",
     "text": [
      "[-0.55665731 -0.48827642  1.00696814 -0.33912687  0.18571736 -1.05576235\n",
      " -0.08537227  0.26599176 -1.33876329  0.30511302]\n"
     ]
    }
   ],
   "source": [
    "z=np.random.randn(10)\n",
    "print(z)"
   ]
  },
  {
   "cell_type": "code",
   "execution_count": 27,
   "metadata": {
    "scrolled": true
   },
   "outputs": [
    {
     "name": "stdout",
     "output_type": "stream",
     "text": [
      "[False False  True False  True False False  True False  True]\n",
      "True\n"
     ]
    }
   ],
   "source": [
    "print(z>0)\n",
    "print(np.any(z>0))"
   ]
  },
  {
   "cell_type": "code",
   "execution_count": 29,
   "metadata": {},
   "outputs": [
    {
     "name": "stdout",
     "output_type": "stream",
     "text": [
      "False\n",
      "True\n"
     ]
    }
   ],
   "source": [
    "print(np.all(z>0))\n",
    "print(np.all(z!=0))"
   ]
  },
  {
   "cell_type": "markdown",
   "metadata": {},
   "source": [
    "#### where 함수\n",
    " - 조건에 따라 선별적으로 값을 선택 가능\n",
    " - 사용 예) 음수인경우는 0, 나머지는 그대로 값을 쓰는 경우"
   ]
  },
  {
   "cell_type": "code",
   "execution_count": 30,
   "metadata": {},
   "outputs": [
    {
     "name": "stdout",
     "output_type": "stream",
     "text": [
      "[-1.14476384 -0.92364354 -1.11268404 -2.61409911  1.96731788  0.67020367\n",
      "  2.26137841 -0.01566042 -0.62278307 -0.38932329]\n"
     ]
    }
   ],
   "source": [
    "z=np.random.randn(10)\n",
    "print(z)"
   ]
  },
  {
   "cell_type": "code",
   "execution_count": 31,
   "metadata": {},
   "outputs": [
    {
     "data": {
      "text/plain": [
       "array([0.        , 0.        , 0.        , 0.        , 1.96731788,\n",
       "       0.67020367, 2.26137841, 0.        , 0.        , 0.        ])"
      ]
     },
     "execution_count": 31,
     "metadata": {},
     "output_type": "execute_result"
    }
   ],
   "source": [
    "np.where(z>0, z, 0) # where(조건, 참일때, 거짓일때)"
   ]
  }
 ],
 "metadata": {
  "kernelspec": {
   "display_name": "Python 3",
   "language": "python",
   "name": "python3"
  },
  "language_info": {
   "codemirror_mode": {
    "name": "ipython",
    "version": 3
   },
   "file_extension": ".py",
   "mimetype": "text/x-python",
   "name": "python",
   "nbconvert_exporter": "python",
   "pygments_lexer": "ipython3",
   "version": "3.8.3"
  }
 },
 "nbformat": 4,
 "nbformat_minor": 1
}
