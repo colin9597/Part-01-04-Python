{
 "cells": [
  {
   "cell_type": "markdown",
   "metadata": {},
   "source": [
    "## 학습목표\n",
    " 1. linalg 서브모듈 함수 활용여 선형대수 연산하기"
   ]
  },
  {
   "cell_type": "code",
   "execution_count": 1,
   "metadata": {},
   "outputs": [],
   "source": [
    "import numpy as np"
   ]
  },
  {
   "cell_type": "markdown",
   "metadata": {},
   "source": [
    "#### np.linalg.inv\n",
    " - 역행렬을 구할 때 사용\n",
    " - 모든 차원의 값이 같아야 함"
   ]
  },
  {
   "cell_type": "code",
   "execution_count": 4,
   "metadata": {},
   "outputs": [
    {
     "name": "stdout",
     "output_type": "stream",
     "text": [
      "[[0.47455133 0.84032257 0.55389795]\n",
      " [0.61269911 0.65788873 0.27398621]\n",
      " [0.02146674 0.36544178 0.01591022]]\n",
      "\n",
      "[[-1.2735355   2.68527858 -1.90573149]\n",
      " [-0.05492194 -0.06164873  2.9736889 ]\n",
      " [ 2.97980905 -2.20708112 -2.87867195]]\n",
      "\n",
      "[[1.00000000e+00 2.22044605e-16 2.22044605e-16]\n",
      " [0.00000000e+00 1.00000000e+00 0.00000000e+00]\n",
      " [6.93889390e-18 0.00000000e+00 1.00000000e+00]]\n",
      "\n",
      "[[1.00000000e+00 2.22044605e-16 2.22044605e-16]\n",
      " [0.00000000e+00 1.00000000e+00 0.00000000e+00]\n",
      " [6.93889390e-18 0.00000000e+00 1.00000000e+00]]\n"
     ]
    }
   ],
   "source": [
    "x=np.random.rand(3,3) # 정방행렬만 가능\n",
    "print(x)\n",
    "print()\n",
    "\n",
    "print(np.linalg.inv(x))\n",
    "print()\n",
    "\n",
    "print(x@np.linalg.inv(x))\n",
    "print()\n",
    "\n",
    "print(np.matmul(x, np.linalg.inv(x)))"
   ]
  },
  {
   "cell_type": "markdown",
   "metadata": {},
   "source": [
    "#### np.linalg.solve\n",
    " - Ax = B 형태의 선형대수식 솔루션을 제공\n",
    " - 예제) 호랑이와 홍합의 합 : 25 호랑이 다리와 홍합 다리의 합은 64\n",
    "   - x + y = 25\n",
    "   - 2x + 4y = 64\n",
    "   \n",
    " $$\\begin{pmatrix} 1 & 1 \\\\ 2 & 4 \\end{pmatrix}\\begin{pmatrix} x \\\\ y \\end{pmatrix}= \\begin{pmatrix} 25 \\\\ 64 \\end{pmatrix}$$\n"
   ]
  },
  {
   "cell_type": "code",
   "execution_count": 7,
   "metadata": {},
   "outputs": [
    {
     "name": "stdout",
     "output_type": "stream",
     "text": [
      "[18.  7.]\n"
     ]
    },
    {
     "data": {
      "text/plain": [
       "True"
      ]
     },
     "execution_count": 7,
     "metadata": {},
     "output_type": "execute_result"
    }
   ],
   "source": [
    "A=np.array([[1, 1], [2, 4]])\n",
    "B=np.array([25, 64])\n",
    "\n",
    "x=np.linalg.solve(A, B)\n",
    "print(x)\n",
    "\n",
    "np.allclose(A@x, B)"
   ]
  }
 ],
 "metadata": {
  "kernelspec": {
   "display_name": "Python 3",
   "language": "python",
   "name": "python3"
  },
  "language_info": {
   "codemirror_mode": {
    "name": "ipython",
    "version": 3
   },
   "file_extension": ".py",
   "mimetype": "text/x-python",
   "name": "python",
   "nbconvert_exporter": "python",
   "pygments_lexer": "ipython3",
   "version": "3.8.3"
  }
 },
 "nbformat": 4,
 "nbformat_minor": 1
}
