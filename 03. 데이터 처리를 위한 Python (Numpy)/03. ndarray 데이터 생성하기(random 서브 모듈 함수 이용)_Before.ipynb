{
 "cells": [
  {
   "cell_type": "markdown",
   "metadata": {},
   "source": [
    "### 학습목표\n",
    " - random 서브모듈 함수를 통해 ndarray 생성하기"
   ]
  },
  {
   "cell_type": "code",
   "execution_count": 1,
   "metadata": {},
   "outputs": [],
   "source": [
    "import numpy as np"
   ]
  },
  {
   "cell_type": "markdown",
   "metadata": {},
   "source": [
    "#### random 서브모듈"
   ]
  },
  {
   "cell_type": "markdown",
   "metadata": {},
   "source": [
    "#### rand 함수\n",
    " - 0, 1사이의 분포로 랜덤한 ndarray 생성"
   ]
  },
  {
   "cell_type": "code",
   "execution_count": 3,
   "metadata": {},
   "outputs": [
    {
     "data": {
      "text/plain": [
       "array([0.2185148 , 0.94060211])"
      ]
     },
     "execution_count": 3,
     "metadata": {},
     "output_type": "execute_result"
    }
   ],
   "source": [
    "np.random.rand(2)"
   ]
  },
  {
   "cell_type": "code",
   "execution_count": 2,
   "metadata": {},
   "outputs": [
    {
     "data": {
      "text/plain": [
       "array([[0.77441951, 0.75625683, 0.40119365],\n",
       "       [0.02414586, 0.557889  , 0.40524831]])"
      ]
     },
     "execution_count": 2,
     "metadata": {},
     "output_type": "execute_result"
    }
   ],
   "source": [
    "np.random.rand(2,3)"
   ]
  },
  {
   "cell_type": "code",
   "execution_count": 4,
   "metadata": {},
   "outputs": [
    {
     "data": {
      "text/plain": [
       "array([[[2.44167470e-01, 4.70255636e-01, 2.43822300e-01],\n",
       "        [3.16414375e-01, 1.75243898e-01, 6.73464526e-02],\n",
       "        [8.97019325e-01, 7.54937923e-01, 8.21617382e-01],\n",
       "        [5.86428113e-02, 1.61218478e-01, 5.01657376e-01],\n",
       "        [2.52072250e-01, 9.27003750e-01, 5.06930998e-01]],\n",
       "\n",
       "       [[6.62235274e-01, 7.09211539e-01, 8.84376220e-01],\n",
       "        [3.15223308e-01, 4.95101075e-01, 4.86180766e-01],\n",
       "        [3.07962075e-01, 5.30120340e-02, 2.87799447e-01],\n",
       "        [9.09822158e-02, 3.52095633e-01, 8.47118894e-01],\n",
       "        [6.50556751e-01, 3.86045018e-01, 1.35259726e-01]],\n",
       "\n",
       "       [[3.59628891e-01, 9.49991479e-01, 7.14425194e-01],\n",
       "        [4.99554869e-01, 7.55887252e-02, 9.49924410e-01],\n",
       "        [8.83079711e-01, 4.55868687e-01, 9.49425584e-01],\n",
       "        [7.57470799e-01, 4.49528573e-02, 3.15101188e-01],\n",
       "        [4.08494799e-01, 7.52396221e-01, 9.51534266e-01]],\n",
       "\n",
       "       [[2.62356015e-01, 2.50829952e-01, 4.11842453e-01],\n",
       "        [1.49136968e-01, 9.03792333e-01, 5.17247708e-01],\n",
       "        [3.35205442e-01, 2.41816466e-01, 6.34145229e-01],\n",
       "        [3.11033065e-02, 2.70913201e-04, 3.21733033e-01],\n",
       "        [3.44904648e-01, 5.89705659e-01, 5.22132315e-02]]])"
      ]
     },
     "execution_count": 4,
     "metadata": {},
     "output_type": "execute_result"
    }
   ],
   "source": [
    "np.random.rand(4, 5, 3)"
   ]
  },
  {
   "cell_type": "markdown",
   "metadata": {},
   "source": [
    "#### randn함수\n",
    " - n: normal distribution(정규분포)\n",
    " - 정규분포로 샘플링된 랜덤 ndarray 생성"
   ]
  },
  {
   "cell_type": "code",
   "execution_count": 7,
   "metadata": {},
   "outputs": [
    {
     "data": {
      "text/plain": [
       "array([0.64773539, 0.21480636, 0.17427764, 0.59978287, 0.21664896])"
      ]
     },
     "execution_count": 7,
     "metadata": {},
     "output_type": "execute_result"
    }
   ],
   "source": [
    "np.random.rand(5)"
   ]
  },
  {
   "cell_type": "code",
   "execution_count": 5,
   "metadata": {},
   "outputs": [
    {
     "data": {
      "text/plain": [
       "array([[-1.80317085, -0.01570067, -0.37421228, -0.04756311],\n",
       "       [ 0.39304086, -0.67154298, -1.44466911,  0.05024891],\n",
       "       [ 1.1945596 , -1.19863784, -0.05754633,  1.72910689]])"
      ]
     },
     "execution_count": 5,
     "metadata": {},
     "output_type": "execute_result"
    }
   ],
   "source": [
    "np.random.randn(3, 4)"
   ]
  },
  {
   "cell_type": "code",
   "execution_count": 6,
   "metadata": {},
   "outputs": [
    {
     "data": {
      "text/plain": [
       "array([[[ 0.73337878,  1.0476321 ],\n",
       "        [-1.49120693,  1.55286423],\n",
       "        [ 1.02227884,  0.55016481],\n",
       "        [-1.21024395,  1.69098573]],\n",
       "\n",
       "       [[-0.14470581, -0.18453989],\n",
       "        [ 0.14252523,  0.24473353],\n",
       "        [-0.66358903, -2.04704359],\n",
       "        [-2.30519688, -0.05935868]],\n",
       "\n",
       "       [[ 1.131608  , -0.47189956],\n",
       "        [-0.60145954,  1.28594863],\n",
       "        [ 0.5228021 , -0.65446496],\n",
       "        [ 1.0806971 , -0.22150885]]])"
      ]
     },
     "execution_count": 6,
     "metadata": {},
     "output_type": "execute_result"
    }
   ],
   "source": [
    "np.random.randn(3, 4, 2)"
   ]
  },
  {
   "cell_type": "markdown",
   "metadata": {},
   "source": [
    "#### randint 함수\n",
    " - 특정 정수 사이에서 랜덤하게 샘플링"
   ]
  },
  {
   "cell_type": "code",
   "execution_count": 10,
   "metadata": {},
   "outputs": [
    {
     "data": {
      "text/plain": [
       "array([82, 47, 27, 35, 10])"
      ]
     },
     "execution_count": 10,
     "metadata": {},
     "output_type": "execute_result"
    }
   ],
   "source": [
    "np.random.randint(1, 100, size=(5,))"
   ]
  },
  {
   "cell_type": "code",
   "execution_count": 8,
   "metadata": {},
   "outputs": [
    {
     "data": {
      "text/plain": [
       "array([[43, 93, 21, 74,  8],\n",
       "       [45, 56, 25, 44, 12],\n",
       "       [21, 25, 38, 10, 54]])"
      ]
     },
     "execution_count": 8,
     "metadata": {},
     "output_type": "execute_result"
    }
   ],
   "source": [
    "np.random.randint(1, 100, size=(3,5))"
   ]
  },
  {
   "cell_type": "markdown",
   "metadata": {},
   "source": [
    "#### seed 함수\n",
    " - 랜덤한 값을 동일하게 다시 생성하고자 할때 사용"
   ]
  },
  {
   "cell_type": "code",
   "execution_count": 28,
   "metadata": {},
   "outputs": [
    {
     "data": {
      "text/plain": [
       "array([[-1.74976547,  0.3426804 ,  1.1530358 , -0.25243604],\n",
       "       [ 0.98132079,  0.51421884,  0.22117967, -1.07004333],\n",
       "       [-0.18949583,  0.25500144, -0.45802699,  0.43516349]])"
      ]
     },
     "execution_count": 28,
     "metadata": {},
     "output_type": "execute_result"
    }
   ],
   "source": [
    "np.random.seed(100)\n",
    "np.random.randn(3, 4)"
   ]
  },
  {
   "cell_type": "code",
   "execution_count": 37,
   "metadata": {},
   "outputs": [
    {
     "data": {
      "text/plain": [
       "array([[-1.74976547,  0.3426804 ,  1.1530358 , -0.25243604,  0.98132079,\n",
       "         0.51421884],\n",
       "       [ 0.22117967, -1.07004333, -0.18949583,  0.25500144, -0.45802699,\n",
       "         0.43516349]])"
      ]
     },
     "execution_count": 37,
     "metadata": {},
     "output_type": "execute_result"
    }
   ],
   "source": [
    "np.random.seed(100)\n",
    "np.random.randn(2, 6)"
   ]
  },
  {
   "cell_type": "markdown",
   "metadata": {},
   "source": [
    "#### choice\n",
    " - 주어진 1차원 ndarray로 부터 랜덤으로 샘플링\n",
    " - 정수가 주어진 경우, np.arange(해당숫자)로 간주"
   ]
  },
  {
   "cell_type": "code",
   "execution_count": 38,
   "metadata": {},
   "outputs": [
    {
     "data": {
      "text/plain": [
       "array([[83,  4, 91, 59],\n",
       "       [67,  7, 49, 47],\n",
       "       [65, 61, 14, 55]])"
      ]
     },
     "execution_count": 38,
     "metadata": {},
     "output_type": "execute_result"
    }
   ],
   "source": [
    "np.random.choice(100, (3, 4))"
   ]
  },
  {
   "cell_type": "code",
   "execution_count": 39,
   "metadata": {},
   "outputs": [
    {
     "data": {
      "text/plain": [
       "array([[2.6, 4.9],\n",
       "       [2. , 3. ]])"
      ]
     },
     "execution_count": 39,
     "metadata": {},
     "output_type": "execute_result"
    }
   ],
   "source": [
    "x=np.array([1, 2, 3, 1.5, 2.6, 4.9])\n",
    "np.random.choice(x, size=(2,2), replace=False)"
   ]
  },
  {
   "cell_type": "code",
   "execution_count": 40,
   "metadata": {},
   "outputs": [
    {
     "data": {
      "text/plain": [
       "array([[1.5, 3. ],\n",
       "       [4.9, 1.5]])"
      ]
     },
     "execution_count": 40,
     "metadata": {},
     "output_type": "execute_result"
    }
   ],
   "source": [
    "np.random.choice(x, size=(2,2))"
   ]
  },
  {
   "cell_type": "markdown",
   "metadata": {},
   "source": [
    "#### 확률분포에 따른 ndarray 생성\n",
    " - uniform\n",
    " - normal 등등"
   ]
  },
  {
   "cell_type": "code",
   "execution_count": 43,
   "metadata": {},
   "outputs": [
    {
     "data": {
      "text/plain": [
       "array([[2.58975752, 2.62292196, 2.28055611, 2.24955902, 1.29101502],\n",
       "       [2.1404318 , 1.130225  , 1.62682514, 1.43413153, 2.05390078],\n",
       "       [1.85421676, 2.96526085, 1.28090297, 2.49682321, 2.57768079],\n",
       "       [2.46079323, 2.69123668, 2.11238076, 1.11372542, 2.77344913]])"
      ]
     },
     "execution_count": 43,
     "metadata": {},
     "output_type": "execute_result"
    }
   ],
   "source": [
    "np.random.uniform(1.0, 3.0, size=(4,5))"
   ]
  },
  {
   "cell_type": "code",
   "execution_count": 45,
   "metadata": {},
   "outputs": [
    {
     "data": {
      "text/plain": [
       "array([[ 0.60028357, -1.84465986,  0.04258809, -0.02408499],\n",
       "       [ 0.38405784, -0.0490925 , -1.60169118, -0.13876257],\n",
       "       [ 0.01208627, -1.29814417, -0.12888604, -0.28292163]])"
      ]
     },
     "execution_count": 45,
     "metadata": {},
     "output_type": "execute_result"
    }
   ],
   "source": [
    "np.random.normal(size=(3, 4))"
   ]
  },
  {
   "cell_type": "code",
   "execution_count": 46,
   "metadata": {},
   "outputs": [
    {
     "data": {
      "text/plain": [
       "array([[-0.17916825,  0.67575177,  2.38059534, -1.14670086],\n",
       "       [-0.29114335, -0.85422577,  0.86340647, -0.31638123],\n",
       "       [-0.90222577, -0.73856239, -0.39533888,  0.08420085]])"
      ]
     },
     "execution_count": 46,
     "metadata": {},
     "output_type": "execute_result"
    }
   ],
   "source": [
    "np.random.randn(3, 4)"
   ]
  }
 ],
 "metadata": {
  "kernelspec": {
   "display_name": "Python 3",
   "language": "python",
   "name": "python3"
  },
  "language_info": {
   "codemirror_mode": {
    "name": "ipython",
    "version": 3
   },
   "file_extension": ".py",
   "mimetype": "text/x-python",
   "name": "python",
   "nbconvert_exporter": "python",
   "pygments_lexer": "ipython3",
   "version": "3.8.3"
  }
 },
 "nbformat": 4,
 "nbformat_minor": 2
}
